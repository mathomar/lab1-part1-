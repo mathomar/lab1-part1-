{
 "cells": [
  {
   "cell_type": "markdown",
   "metadata": {},
   "source": [
    "# part 1"
   ]
  },
  {
   "cell_type": "markdown",
   "metadata": {},
   "source": [
    "##  <span style=\"color:blue;font-weight:bold\">Jordan</span>"
   ]
  },
  {
   "cell_type": "markdown",
   "metadata": {},
   "source": [
    "Jordan | ASIE\n",
    "------------ | -------------\n",
    "Capital | Amman\n",
    "Official languages | Arabic\n",
    "Religion | ISALM\n",
    "Area | 89,342 km2\n",
    "Population| 10,658,123\n",
    "Area | 89,342 km2\n",
    "Driving side | Right\n",
    "Government | Unitary parliamentary constitutional monarchy"
   ]
  },
  {
   "cell_type": "markdown",
   "metadata": {},
   "source": [
    "## <img src=\"https://www.worldatlas.com/webimage/flags/coat_of_arms/Jordan.png\" alt=\"worldatlas.com\">"
   ]
  },
  {
   "cell_type": "markdown",
   "metadata": {},
   "source": [
    "## MAP"
   ]
  },
  {
   "cell_type": "markdown",
   "metadata": {},
   "source": [
    "## <img src=\"https://i.pinimg.com/236x/08/d4/8d/08d48d434b68f51259111aae45fd809d.jpg\">"
   ]
  },
  {
   "cell_type": "markdown",
   "metadata": {},
   "source": [
    "##  <span style=\"color:green;font-weight:bold\">Largest cities or towns in Jordan</span>"
   ]
  },
  {
   "cell_type": "markdown",
   "metadata": {},
   "source": [
    "Rank | Name | Pop\n",
    "---- | -----|-------\n",
    "1 | Amman | 1,812,059\n",
    "2 | Zarqa | 635,160\n",
    "3 | Irbid | 502,714\n",
    "4 | Russeifa | 472,604\n",
    "5 | Al Quwaysimah | 296,763\n",
    "6 | Tilā' al-'Alī | 251,000"
   ]
  },
  {
   "cell_type": "markdown",
   "metadata": {},
   "source": [
    "## Flag of national Kingdom of Jordan"
   ]
  },
  {
   "cell_type": "code",
   "execution_count": 3,
   "metadata": {},
   "outputs": [
    {
     "data": {
      "text/html": [
       "<svg xmlns=\"http://www.w3.org/2000/svg\" width=\"1200\" height=\"600\" viewBox=\"0 0 10080 5040\">\n",
       "\t<title>Flag of Jordan</title>\n",
       "\t<path fill=\"#fff\" d=\"m0 0h10080v5040H0z\"/>\n",
       "\t<path d=\"m0 0h10080v1680H0z\"/>\n",
       "\t<path fill=\"#007a3d\" d=\"m0 3360h10080v1680H0z\"/>\n",
       "\t<path fill=\"#ce1126\" d=\"m5040 2520L0 5040V0m1557 2160-78 198-203-62 106 184-176 120 211 32-16 212 156-144 157 144-16-212 210-32-175-120 106-184-203 62z\"/>\n",
       "</svg>\n"
      ],
      "text/plain": [
       "<IPython.core.display.HTML object>"
      ]
     },
     "metadata": {},
     "output_type": "display_data"
    }
   ],
   "source": [
    "%%HTML\n",
    "<svg xmlns=\"http://www.w3.org/2000/svg\" width=\"1200\" height=\"600\" viewBox=\"0 0 10080 5040\">\n",
    "\t<title>Flag of Jordan</title>\n",
    "\t<path fill=\"#fff\" d=\"m0 0h10080v5040H0z\"/>\n",
    "\t<path d=\"m0 0h10080v1680H0z\"/>\n",
    "\t<path fill=\"#007a3d\" d=\"m0 3360h10080v1680H0z\"/>\n",
    "\t<path fill=\"#ce1126\" d=\"m5040 2520L0 5040V0m1557 2160-78 198-203-62 106 184-176 120 211 32-16 212 156-144 157 144-16-212 210-32-175-120 106-184-203 62z\"/>\n",
    "</svg>\n"
   ]
  },
  {
   "cell_type": "code",
   "execution_count": null,
   "metadata": {},
   "outputs": [],
   "source": []
  }
 ],
 "metadata": {
  "kernelspec": {
   "display_name": "Python 3",
   "language": "python",
   "name": "python3"
  },
  "language_info": {
   "codemirror_mode": {
    "name": "ipython",
    "version": 3
   },
   "file_extension": ".py",
   "mimetype": "text/x-python",
   "name": "python",
   "nbconvert_exporter": "python",
   "pygments_lexer": "ipython3",
   "version": "3.8.5"
  }
 },
 "nbformat": 4,
 "nbformat_minor": 4
}
